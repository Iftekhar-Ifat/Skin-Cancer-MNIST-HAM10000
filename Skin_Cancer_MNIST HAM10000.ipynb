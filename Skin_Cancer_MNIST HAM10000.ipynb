{
  "cells": [
    {
      "cell_type": "markdown",
      "metadata": {
        "id": "aXxDHNBspqlV"
      },
      "source": [
        "# Importing Libraries"
      ]
    },
    {
      "cell_type": "code",
      "execution_count": null,
      "metadata": {
        "id": "ZtzKopUzKUDz"
      },
      "outputs": [],
      "source": [
        "import tensorflow as tf\n",
        "tf.random.set_seed(42)\n",
        "import tensorflow_hub as hub\n",
        "from tensorflow.keras import layers\n",
        "import os\n",
        "from glob import glob\n",
        "import pandas as pd\n",
        "import numpy as np\n",
        "np.random.seed(42)\n",
        "from PIL import Image\n",
        "import matplotlib.pyplot as plt\n",
        "from sklearn.preprocessing import LabelEncoder\n",
        "from sklearn.utils import resample\n",
        "from sklearn.model_selection import train_test_split\n",
        "from keras.utils.np_utils import to_categorical\n",
        "from keras.preprocessing.image import ImageDataGenerator"
      ]
    },
    {
      "cell_type": "markdown",
      "metadata": {
        "id": "igATSCdZq4OQ"
      },
      "source": [
        "# Data Processing"
      ]
    },
    {
      "cell_type": "markdown",
      "metadata": {
        "id": "6oETnwE_qB1p"
      },
      "source": [
        "## Making Directory of images"
      ]
    },
    {
      "cell_type": "code",
      "execution_count": null,
      "metadata": {
        "id": "FaR1jJsoGeJv"
      },
      "outputs": [],
      "source": [
        "# Base directory of the dataset\n",
        "base_dir = \"/content/drive/MyDrive/Deep Learning/Skin Cancer MNIST HAM10000\"\n",
        "\n",
        "# Merging images from both folders HAM10000_images_part1.zip and HAM10000_images_part2.zip into one dictionary\n",
        "# where image name maps to image path\n",
        "\n",
        "image_id_path_dict = {os.path.splitext(os.path.basename(x))[0]: x\n",
        "                        for x in glob(os.path.join(base_dir, '*', '*.jpg'))}"
      ]
    },
    {
      "cell_type": "markdown",
      "metadata": {
        "id": "t9kSXK_gqTz0"
      },
      "source": [
        "## Renaming and Adding Labels"
      ]
    },
    {
      "cell_type": "code",
      "execution_count": null,
      "metadata": {
        "colab": {
          "base_uri": "https://localhost:8080/"
        },
        "id": "NIkYQtbZqnQz",
        "outputId": "189398c5-363d-441f-8dff-4349a4bda43a"
      },
      "outputs": [],
      "source": [
        "# Reading Labels\n",
        "scd_df = pd.read_csv(os.path.join(base_dir, 'HAM10000_metadata.csv'))\n",
        "\n",
        "# Renaming cell type names to make it more user friendly\n",
        "renamed_cell_type = {\n",
        "    'nv': 'Melanocytic nevi',\n",
        "    'mel': 'Melanoma',\n",
        "    'bkl': 'Benign keratosis-like lesions',\n",
        "    'bcc': 'Basal cell carcinoma',\n",
        "    'akiec': 'Actinic keratoses',\n",
        "    'vasc': 'Vascular lesions',\n",
        "    'df': 'Dermatofibroma'\n",
        "}\n",
        "scd_df['cell_type'] = scd_df['dx'].map(renamed_cell_type)\n",
        "\n",
        "# Adding path column to the dataframe\n",
        "scd_df['path'] = scd_df['image_id'].map(image_id_path_dict.get)\n",
        "\n",
        "# Making an array of all unique cells\n",
        "unique_cell = np.unique(scd_df['cell_type'])\n",
        "\n",
        "unique_cell"
      ]
    },
    {
      "cell_type": "markdown",
      "metadata": {
        "id": "vAiO58-0wr8g"
      },
      "source": [
        "## Filling null values"
      ]
    },
    {
      "cell_type": "code",
      "execution_count": null,
      "metadata": {
        "id": "51ixqKTRwvZw"
      },
      "outputs": [],
      "source": [
        "# Filling null values of 'age' column by their mean value\n",
        "scd_df['age'].fillna((scd_df['age'].mean()), inplace=True)"
      ]
    },
    {
      "cell_type": "markdown",
      "metadata": {
        "id": "bO5eMBwyGZ_R"
      },
      "source": [
        "## EDA"
      ]
    },
    {
      "cell_type": "code",
      "execution_count": null,
      "metadata": {
        "colab": {
          "base_uri": "https://localhost:8080/",
          "height": 770
        },
        "id": "72cSR2QWGdF5",
        "outputId": "ad1fd56d-9147-475a-facb-fb9ae33da103"
      },
      "outputs": [],
      "source": [
        "# In this we will explore different features of the dataset , their distrubtions and actual counts\n",
        "\n",
        "fig, ax1 = plt.subplots(1, 1, figsize= (10, 5))\n",
        "scd_df['cell_type'].value_counts().plot(kind='bar', ax=ax1)\n",
        "\n",
        "scd_df['cell_type'].value_counts()"
      ]
    },
    {
      "cell_type": "markdown",
      "metadata": {
        "id": "wcpiec25Xddq"
      },
      "source": [
        "## Balancing data by cell_type"
      ]
    },
    {
      "cell_type": "code",
      "execution_count": null,
      "metadata": {
        "colab": {
          "base_uri": "https://localhost:8080/",
          "height": 644
        },
        "id": "ax8aLASSX-Wg",
        "outputId": "b97fd6a1-d326-4426-830b-7afec1e858ea"
      },
      "outputs": [],
      "source": [
        "# Group the DataFrame by 'cell_type' column\n",
        "groups = scd_df.groupby('cell_type')\n",
        "\n",
        "number_of_sample = 1000\n",
        "\n",
        "# Define a function for resampling each group\n",
        "def resample_group(group):\n",
        "    if len(group) >= number_of_sample:\n",
        "        # Oversample the group to have 500 rows\n",
        "        return group.sample(n=number_of_sample, replace=True)\n",
        "    else:\n",
        "        # Undersample the group to have 500 rows\n",
        "        return group.sample(n=number_of_sample, replace=True, random_state=42)\n",
        "\n",
        "# Apply the resample_group function to each group\n",
        "scd_df_balanced = groups.apply(resample_group)\n",
        "\n",
        "# Reset the index of the new DataFrame\n",
        "scd_df_balanced = scd_df_balanced.reset_index(drop=True)\n",
        "\n",
        "# Plotting the balanced dataframe\n",
        "fig, ax1 = plt.subplots(1, 1, figsize= (10, 5))\n",
        "scd_df_balanced['cell_type'].value_counts().plot(kind='bar', ax=ax1)"
      ]
    },
    {
      "cell_type": "code",
      "execution_count": null,
      "metadata": {
        "colab": {
          "base_uri": "https://localhost:8080/",
          "height": 143
        },
        "id": "EaeDanXihR3v",
        "outputId": "ed9e51ec-eef4-4111-b4af-409b8d4f34e2"
      },
      "outputs": [],
      "source": [
        "scd_df_balanced.head(3)"
      ]
    },
    {
      "cell_type": "code",
      "execution_count": null,
      "metadata": {
        "id": "JB9UdKkde885"
      },
      "outputs": [],
      "source": [
        "import pandas as pd\n",
        "import tensorflow as tf\n",
        "from tensorflow.keras.preprocessing.image import ImageDataGenerator\n",
        "\n",
        "# Create an instance of the ImageDataGenerator class with the desired augmentations\n",
        "datagen = ImageDataGenerator(\n",
        "    rescale=1./255,\n",
        "    rotation_range=30, # rotation\n",
        "    zoom_range=0.2, # zoom\n",
        "    horizontal_flip=True, # horizontal flip\n",
        "    vertical_flip=True, # vertical flip\n",
        "    width_shift_range=0.1, # horizontal shift\n",
        "    height_shift_range=0.1, # vertical shift\n",
        "    fill_mode='nearest', # fill mode for any new pixels created during augmentation\n",
        ")"
      ]
    },
    {
      "cell_type": "markdown",
      "metadata": {
        "id": "-dJkFZkY4fpm"
      },
      "source": [
        "## Spliting the dataset into training and validation"
      ]
    },
    {
      "cell_type": "code",
      "execution_count": null,
      "metadata": {
        "colab": {
          "base_uri": "https://localhost:8080/"
        },
        "id": "E_ipIugNpprv",
        "outputId": "b0412b90-f768-4b3f-9207-13e336459402"
      },
      "outputs": [],
      "source": [
        "# Split the data into training and testing sets\n",
        "train_df, test_df = train_test_split(scd_df_balanced, test_size=0.2, random_state=42)\n",
        "\n",
        "# Create a flow for the training set\n",
        "train_dataset = datagen.flow_from_dataframe(\n",
        "    dataframe=train_df,\n",
        "    x_col='path',\n",
        "    y_col='cell_type',\n",
        "    target_size=(128, 128),\n",
        "    batch_size=32,\n",
        "    class_mode='categorical'\n",
        ")\n",
        "\n",
        "# Create a flow for the testing set\n",
        "val_dataset = datagen.flow_from_dataframe(\n",
        "    dataframe=test_df,\n",
        "    x_col='path',\n",
        "    y_col='cell_type',\n",
        "    target_size=(128, 128),\n",
        "    batch_size=32,\n",
        "    class_mode='categorical'\n",
        ")"
      ]
    },
    {
      "cell_type": "markdown",
      "metadata": {
        "id": "rlggEVQzjKVP"
      },
      "source": [
        "## Turning data into batches"
      ]
    },
    {
      "cell_type": "code",
      "execution_count": null,
      "metadata": {
        "id": "LKzJz4UFjPtI"
      },
      "outputs": [],
      "source": [
        "BATCH_SIZE = 32"
      ]
    },
    {
      "cell_type": "markdown",
      "metadata": {
        "id": "XfZtmBc7Qer0"
      },
      "source": [
        "### Visualizing Data Batches"
      ]
    },
    {
      "cell_type": "code",
      "execution_count": null,
      "metadata": {
        "colab": {
          "base_uri": "https://localhost:8080/",
          "height": 1000
        },
        "id": "j6ltMh0OQi3q",
        "outputId": "041f996f-d90d-4953-f25e-5b4384437162"
      },
      "outputs": [],
      "source": [
        "import matplotlib.pyplot as plt\n",
        "import numpy as np\n",
        "\n",
        "# Get a batch of 25 images and their corresponding labels from the train_dataset\n",
        "images, labels = next(train_dataset)\n",
        "\n",
        "# Get the class indices from the train_dataset object\n",
        "class_indices = train_dataset.class_indices\n",
        "\n",
        "# Invert the class_indices dictionary to get a dictionary with cell type labels as keys and index numbers as values\n",
        "inv_class_indices = {v: k for k, v in class_indices.items()}\n",
        "\n",
        "# Create a list of the cell type labels\n",
        "cell_type_labels = [inv_class_indices[i] for i in range(len(inv_class_indices))]\n",
        "\n",
        "# Define a function to plot the images and their cell types\n",
        "def plot_images(images, cell_types):\n",
        "    fig, axes = plt.subplots(nrows=5, ncols=5, figsize=(10, 10))\n",
        "    axes = axes.flatten()\n",
        "    for img, cell_type, ax in zip(images, cell_types, axes):\n",
        "        ax.imshow(img)\n",
        "        ax.set_title(cell_type_labels[cell_type])\n",
        "        ax.axis('off')\n",
        "    plt.tight_layout()\n",
        "    plt.show()\n",
        "\n",
        "# Call the plot_images() function with the images and their actual cell types\n",
        "cell_types = [np.argmax(label) for label in labels]\n",
        "plot_images(images, cell_types)"
      ]
    },
    {
      "cell_type": "markdown",
      "metadata": {
        "id": "ZxYc8fdOD0Bn"
      },
      "source": [
        "# Building a model"
      ]
    },
    {
      "cell_type": "markdown",
      "metadata": {
        "id": "seoQ4moXh8Qf"
      },
      "source": [
        "## Creating callback function"
      ]
    },
    {
      "cell_type": "code",
      "execution_count": null,
      "metadata": {
        "id": "wqhag2LOiDoT"
      },
      "outputs": [],
      "source": [
        "# TensorBoard callback\n",
        "\n",
        "# Loading the TensorBoard notebook extension\n",
        "%load_ext tensorboard\n",
        "\n",
        "import datetime\n",
        "\n",
        "# Create a function to build a TensorBoard callback\n",
        "def create_tensorboard_callback(model_name):\n",
        "    # Create a log directory for storing TensorBoard logs\n",
        "    path = f\"/content/drive/MyDrive/Deep Learning/Skin Cancer MNIST HAM10000/logs/{model_name}\"\n",
        "    logdir = os.path.join(path,datetime.datetime.now().strftime(\"%m%d-%H%M%S\"))\n",
        "\n",
        "    return tf.keras.callbacks.TensorBoard(logdir)"
      ]
    },
    {
      "cell_type": "markdown",
      "metadata": {
        "id": "8m8ghM0xHnuw"
      },
      "source": [
        "## Setting input and output and models"
      ]
    },
    {
      "cell_type": "code",
      "execution_count": null,
      "metadata": {
        "id": "lyq-_HltD3Te"
      },
      "outputs": [],
      "source": [
        "# Setting img size\n",
        "IMG_SIZE = 128\n",
        "\n",
        "# Setting input shape to the model\n",
        "INPUT_SHAPE = [IMG_SIZE, IMG_SIZE, 3]\n",
        "\n",
        "# Importing model url\n",
        "efficientnet_url = \"https://tfhub.dev/google/imagenet/efficientnet_v2_imagenet21k_ft1k_l/classification/2\"\n",
        "mobilenetV2_url = \"https://tfhub.dev/google/imagenet/mobilenet_v2_050_128/feature_vector/5\"\n",
        "resnet50V2_url = \"https://tfhub.dev/google/imagenet/resnet_v2_50/classification/5\""
      ]
    },
    {
      "cell_type": "markdown",
      "metadata": {
        "id": "fMHSQbmmTdOR"
      },
      "source": [
        "## Setting up Keras model learning function"
      ]
    },
    {
      "cell_type": "code",
      "execution_count": null,
      "metadata": {
        "id": "f1qrrCbUUC_b"
      },
      "outputs": [],
      "source": [
        "# Create a function which builds a Keras model\n",
        "\n",
        "def create_model(model_url):\n",
        "\n",
        "    NUM_OF_LABELS = 7\n",
        "    # Download the pretrained model and save it as a Keras layer\n",
        "    feature_extractor_layer = hub.KerasLayer(model_url, trainable=False, name=\"feature_extraction_layer\", input_shape=INPUT_SHAPE)\n",
        "\n",
        "    # Create model\n",
        "    model = tf.keras.Sequential([\n",
        "        feature_extractor_layer,\n",
        "        layers.Dense(NUM_OF_LABELS, activation=\"softmax\", name=\"output-layer\")\n",
        "    ])\n",
        "    # Compile the model\n",
        "    model.compile(\n",
        "        loss=\"categorical_crossentropy\",\n",
        "        optimizer=tf.keras.optimizers.Adam(),\n",
        "        metrics=[\"accuracy\"]\n",
        "    )\n",
        "\n",
        "    return model"
      ]
    },
    {
      "cell_type": "markdown",
      "metadata": {
        "id": "SSVjZiyzdlrn"
      },
      "source": [
        "## Creating TF Hub Feature Extraction model"
      ]
    },
    {
      "cell_type": "code",
      "execution_count": null,
      "metadata": {
        "id": "B_FYRikQc1zQ"
      },
      "outputs": [],
      "source": [
        "NUM_EPOCHS = 50 #An epoch means training the neural network with all the training data for one cycle\n",
        "\n",
        "# Build a function to train and return a trained model\n",
        "def train_model(model_url, model_name):\n",
        "\n",
        "    # Create a model\n",
        "    model = create_model(model_url)\n",
        "\n",
        "    # Fit the model to the data passing it the callbacks we created\n",
        "    history = model.fit(x=train_dataset,\n",
        "        epochs=NUM_EPOCHS,\n",
        "        validation_data=val_dataset,\n",
        "        validation_freq=1,\n",
        "        callbacks=[create_tensorboard_callback(model_name), tf.keras.callbacks.EarlyStopping(monitor='val_loss', patience=5)])\n",
        "\n",
        "    # Return the fitted model\n",
        "    return model,history"
      ]
    },
    {
      "cell_type": "code",
      "execution_count": null,
      "metadata": {
        "colab": {
          "base_uri": "https://localhost:8080/"
        },
        "id": "FggZJZplqRPA",
        "outputId": "1becc0d2-98f8-47eb-d31d-10476e5c2b5d"
      },
      "outputs": [],
      "source": [
        "# RUN MODEL\n",
        "resnet50V2_model, resnet50V2_history = train_model(resnet50V2_url, \"resnet50V2\")\n",
        "resnet50V2_model.save(\"/content/drive/MyDrive/Deep Learning/Skin Cancer MNIST HAM10000/Models/resnet\")"
      ]
    },
    {
      "cell_type": "code",
      "execution_count": null,
      "metadata": {
        "colab": {
          "base_uri": "https://localhost:8080/"
        },
        "id": "C0fau8XXhanJ",
        "outputId": "f13becbb-43b6-4c60-f51f-875e2afe121b"
      },
      "outputs": [],
      "source": [
        "mobilenetV2_model, mobilenetV2_history = train_model(mobilenetV2_url, \"mobilenetV2\")\n",
        "mobilenetV2_model.save(\"/content/drive/MyDrive/Deep Learning/Skin Cancer MNIST HAM10000/Models/mobilenet\")"
      ]
    },
    {
      "cell_type": "code",
      "execution_count": null,
      "metadata": {
        "colab": {
          "base_uri": "https://localhost:8080/"
        },
        "id": "qnT4j2cOhd1-",
        "outputId": "1a1dcdd6-b27b-4fb6-bd0c-808078b43d8a"
      },
      "outputs": [],
      "source": [
        "efficientnet_model,efficientnet_history = train_model(efficientnet_url, \"efficientnetV2-L\")\n",
        "efficientnet_model.save(\"/content/drive/MyDrive/Deep Learning/Skin Cancer MNIST HAM10000/Models/efficientnet\")"
      ]
    },
    {
      "cell_type": "code",
      "execution_count": null,
      "metadata": {
        "id": "lDlCWZfkfy-O"
      },
      "outputs": [],
      "source": [
        "import tensorflow as tf\n",
        "import datetime\n",
        "# Load the TensorBoard notebook extension\n",
        "%load_ext tensorboard\n",
        "\n",
        "# Start TensorBoard\n",
        "%tensorboard --logdir /content/drive/MyDrive/Deep\\ Learning/Skin\\ Cancer\\ MNIST\\ HAM10000/logs\n"
      ]
    },
    {
      "cell_type": "markdown",
      "metadata": {
        "id": "HZ2Hb-dgr7hd"
      },
      "source": [
        "## Evaluation"
      ]
    },
    {
      "cell_type": "code",
      "execution_count": null,
      "metadata": {
        "colab": {
          "base_uri": "https://localhost:8080/",
          "height": 235
        },
        "id": "2m5q0iadus1q",
        "outputId": "f40439d9-6798-4e20-d523-c54cec387655"
      },
      "outputs": [],
      "source": [
        "import matplotlib.pyplot as plt\n",
        "import numpy as np\n",
        "\n",
        "def plot_model_history(model_history, model_name, save_directory):\n",
        "    \"\"\"\n",
        "    Plots the accuracy and loss curves for a given model history.\n",
        "\n",
        "    Args:\n",
        "        model_history (keras.callbacks.History): History object obtained from model training\n",
        "        model_name (str): Name of the model for labeling the plots\n",
        "\n",
        "    Returns:\n",
        "        None\n",
        "    \"\"\"\n",
        "    # Plot accuracy\n",
        "    plt.figure(figsize=(12, 6))\n",
        "    plt.plot(model_history.history['accuracy'], 'r-o', label='Training Accuracy')\n",
        "    plt.plot(model_history.history['val_accuracy'], 'b-o', label='Validation Accuracy')\n",
        "    plt.title(f'{model_name} Model Accuracy')\n",
        "    plt.ylabel('Accuracy')\n",
        "    plt.xlabel('Epoch')\n",
        "    plt.legend(loc='best')\n",
        "    plt.grid(True)\n",
        "    # Save the plot as an image file\n",
        "    file_name = f'{model_name}_accuracy.png'\n",
        "    file_path = os.path.join(save_directory, file_name)\n",
        "    plt.savefig(file_path)\n",
        "    print(f'Successfully saved model accuracy plot to {file_path}.')\n",
        "    plt.show()\n",
        "\n",
        "    # Plot loss\n",
        "    plt.figure(figsize=(12, 6))\n",
        "    plt.plot(model_history.history['loss'], 'r-o', label='Training Loss')\n",
        "    plt.plot(model_history.history['val_loss'], 'b-o', label='Validation Loss')\n",
        "    plt.title(f'{model_name} Model Loss')\n",
        "    plt.ylabel('Loss')\n",
        "    plt.xlabel('Epoch')\n",
        "    plt.legend(loc='best')\n",
        "    plt.grid(True)\n",
        "    # Save the plot as an image file\n",
        "    file_name = f'{model_name}_loss.png'\n",
        "    file_path = os.path.join(save_directory, file_name)\n",
        "    plt.savefig(file_path)\n",
        "    print(f'Successfully saved model loss plot to {file_path}.')\n",
        "    plt.show()\n",
        "\n",
        "\n",
        "save_path = \"/content/drive/MyDrive/Deep Learning/Skin Cancer MNIST HAM10000/Evaluation\"\n",
        "\n",
        "plot_model_history(resnet50V2_history, \"Resnet-50 V2\", save_path)\n",
        "plot_model_history(mobilenetV2_history, \"Mobilenet V2\", save_path)\n",
        "plot_model_history(efficientnet_history, \"Efficientnet V2\", save_path)"
      ]
    },
    {
      "cell_type": "markdown",
      "metadata": {
        "id": "axjvKLa6KphG"
      },
      "source": [
        "## Ploting the confusion matrix and print the accuracies, precision, recall and f1 scores."
      ]
    },
    {
      "cell_type": "code",
      "execution_count": null,
      "metadata": {
        "id": "Lp9_42aa6wR8"
      },
      "outputs": [],
      "source": [
        "def plot_confusion_matrix(model, predictions, predicted_labels, true_labels, save_path):\n",
        "    # Compute the confusion matrix\n",
        "    cm = confusion_matrix(true_labels, predicted_labels)\n",
        "    classes = unique_labels(true_labels, predicted_labels)\n",
        "    # Plot the confusion matrix\n",
        "    fig, ax = plt.subplots()\n",
        "    im = ax.imshow(cm, interpolation='nearest', cmap=plt.cm.Blues)\n",
        "    ax.figure.colorbar(im, ax=ax)\n",
        "    ax.set(xticks=np.arange(cm.shape[1]),\n",
        "           yticks=np.arange(cm.shape[0]),\n",
        "           xticklabels=classes, yticklabels=classes,\n",
        "           title=f'Confusion Matrix for {model_name}',\n",
        "           ylabel='True label',\n",
        "           xlabel='Predicted label')\n",
        "\n",
        "    # Loop over data dimensions and create text annotations\n",
        "    for i in range(cm.shape[0]):\n",
        "        for j in range(cm.shape[1]):\n",
        "            ax.text(j, i, cm[i, j],\n",
        "                    ha=\"center\", va=\"center\",\n",
        "                    color=\"white\" if cm[i, j] > cm.max() / 2 else \"black\")\n",
        "\n",
        "    # Save the plot as an image file\n",
        "    file_name = f'{model_name}_cm.png'\n",
        "    file_path = os.path.join(save_path, file_name)\n",
        "    plt.savefig(file_path)\n",
        "\n",
        "    plt.show()\n",
        "\n",
        "def plot_roc(model, predictions, predicted_labels, true_labels, save_path):\n",
        "\n",
        "    predicted_labels = label_binarize(np.argmax(predictions, axis=1), classes=np.arange(7))\n",
        "\n",
        "    # Convert true labels to one-hot encoded format\n",
        "    true_labels = label_binarize(test_labels, classes=np.arange(7))\n",
        "\n",
        "    # Compute the ROC curve and AUC score for each class\n",
        "    fpr = dict()\n",
        "    tpr = dict()\n",
        "    roc_auc = dict()\n",
        "    for i in range(7):\n",
        "        fpr[i], tpr[i], _ = roc_curve(true_labels[:, i], predicted_labels[:, i])\n",
        "        roc_auc[i] = auc(fpr[i], tpr[i])\n",
        "\n",
        "    # Plot the ROC curves\n",
        "    plt.figure()\n",
        "    colors = cycle(['aqua', 'darkorange', 'cornflowerblue', 'purple', 'green', 'red', 'brown'])\n",
        "    for i, color in zip(range(7), colors):\n",
        "        plt.plot(fpr[i], tpr[i], color=color, lw=2, label=f'ROC curve class {i} (area = {roc_auc[i]:.2f})')\n",
        "    plt.plot([0, 1], [0, 1], color='navy', lw=2, linestyle='--')\n",
        "    plt.xlim([0.0, 1.0])\n",
        "    plt.ylim([0.0, 1.05])\n",
        "    plt.xlabel('False Positive Rate')\n",
        "    plt.ylabel('True Positive Rate')\n",
        "    plt.title(f'ROC Curve for {model_name}')\n",
        "    plt.legend(loc=\"lower right\")\n",
        "\n",
        "    # Save the plot as an image file\n",
        "    file_name = f'{model_name}_roc.png'\n",
        "    file_path = os.path.join(save_path, file_name)\n",
        "    plt.savefig(file_path)\n",
        "\n",
        "    plt.show()\n",
        "\n",
        "\n",
        "def plot_precision_recall(model, predictions, predicted_labels, true_labels, save_path):\n",
        "\n",
        "    # Convert true labels to one-hot encoded format\n",
        "    true_labels = label_binarize(test_labels, classes=np.arange(7))\n",
        "\n",
        "    # Compute the precision-recall curve and average precision score for each class\n",
        "    precision = dict()\n",
        "    recall = dict()\n",
        "    average_precision = dict()\n",
        "    for i in range(7):\n",
        "        precision[i], recall[i], _ = precision_recall_curve(true_labels[:, i], predictions[:, i])\n",
        "        average_precision[i] = average_precision_score(true_labels[:, i], predictions[:, i])\n",
        "\n",
        "    # Plot the precision-recall curves\n",
        "    plt.figure()\n",
        "    colors = cycle(['aqua', 'darkorange', 'cornflowerblue', 'purple', 'green', 'red', 'brown'])\n",
        "    for i, color in zip(range(7), colors):\n",
        "        plt.plot(recall[i], precision[i], color=color, lw=2, label=f'Precision-Recall curve class {i} (AP = {average_precision[i]:.2f})')\n",
        "    plt.xlim([0.0, 1.0])\n",
        "    plt.ylim([0.0, 1.05])\n",
        "    plt.xlabel('Recall')\n",
        "    plt.ylabel('Precision')\n",
        "    plt.title(f'Precision-Recall Curve for {model_name}')\n",
        "    plt.legend(bbox_to_anchor=(1.05, 1.0), loc='upper left')  # Move legend to top right\n",
        "\n",
        "    # Save the plot as an image file\n",
        "    file_name = f'{model_name}_precision_recall.png'\n",
        "    file_path = os.path.join(save_path, file_name)\n",
        "    plt.savefig(file_path, bbox_inches='tight')  # Save with tight layout\n",
        "\n",
        "    plt.show()\n",
        "\n",
        "\n",
        "def plot_classification_report(model, predictions, predicted_labels, test_labels, save_path):\n",
        "\n",
        "    # Define the class names for your specific dataset\n",
        "    class_names = unique_cell\n",
        "\n",
        "    # Convert true labels to one-hot encoded format\n",
        "    true_labels = label_binarize(test_labels, classes=np.arange(7))\n",
        "\n",
        "    # Convert predictions to one-hot encoded format\n",
        "    predicted_labels = label_binarize(np.argmax(predictions, axis=1), classes=np.arange(7))\n",
        "\n",
        "    # Compute the classification report\n",
        "    report = classification_report(true_labels, predicted_labels, target_names=class_names)\n",
        "\n",
        "    # Create a Pandas data frame from the classification report\n",
        "    # report_df = pd.read_csv(io.StringIO(report), sep='\\s+')\n",
        "    report_df = pd.read_csv(io.StringIO(report), delimiter=':', skiprows=2, header=None, names=class_names)\n",
        "\n",
        "    # Save the data frame to an Excel file with the model name in the title\n",
        "    file_name = f'{model_name}_classification_report.xlsx'\n",
        "    file_path = os.path.join(save_path, file_name)\n",
        "    report_df.to_excel(file_path, index=False)\n",
        "\n",
        "    # Print the classification report to the console\n",
        "    print(f'Classification Report for {model_name}:')\n",
        "    print(report)"
      ]
    },
    {
      "cell_type": "code",
      "execution_count": null,
      "metadata": {},
      "outputs": [],
      "source": []
    },
    {
      "cell_type": "code",
      "execution_count": null,
      "metadata": {
        "colab": {
          "base_uri": "https://localhost:8080/"
        },
        "id": "JRfyxN-ntcW4",
        "outputId": "e94f2cd3-e8cb-4164-bc21-b9a921a2c5c3"
      },
      "outputs": [],
      "source": [
        "# Initialize empty lists for images and labels\n",
        "images_list = []\n",
        "labels_list = []\n",
        "\n",
        "# Loop through the dataset and extract images and labels from each batch\n",
        "for batch in val_dataset:\n",
        "    images = batch[0]\n",
        "    labels = batch[1]\n",
        "    images_list.append(images)\n",
        "    labels_list.append(labels)\n",
        "\n",
        "    # Break the loop if all batches have been processed\n",
        "    if len(images_list) * 32 >= val_dataset.samples:\n",
        "        break\n",
        "\n",
        "# Concatenate the lists to get the final arrays\n",
        "test_images = np.concatenate(images_list, axis=0)\n",
        "test_labels = np.concatenate(labels_list, axis=0)\n",
        "\n",
        "# Print the shape of the arrays\n",
        "print(\"Images shape:\", test_images.shape)\n",
        "print(\"Labels shape:\", test_labels.shape)"
      ]
    },
    {
      "cell_type": "code",
      "execution_count": null,
      "metadata": {
        "colab": {
          "base_uri": "https://localhost:8080/",
          "height": 1000
        },
        "id": "ljgY_mhB2tyD",
        "outputId": "2e7e5545-ba65-4746-d3ea-1bf2c5b20bc0"
      },
      "outputs": [],
      "source": [
        "import numpy as np\n",
        "import matplotlib.pyplot as plt\n",
        "from sklearn.metrics import confusion_matrix\n",
        "from sklearn.preprocessing import label_binarize\n",
        "import os\n",
        "import io\n",
        "from sklearn.metrics import classification_report\n",
        "from sklearn.metrics import roc_curve, auc\n",
        "from sklearn.metrics import precision_recall_curve, average_precision_score\n",
        "from itertools import cycle\n",
        "from sklearn.utils.multiclass import unique_labels\n",
        "\n",
        "save_path_roc = \"/content/drive/MyDrive/Deep Learning/Skin Cancer MNIST HAM10000/Evaluation/ROC\"\n",
        "save_path_cm = \"/content/drive/MyDrive/Deep Learning/Skin Cancer MNIST HAM10000/Evaluation/CM\"\n",
        "save_path_precision_recall = \"/content/drive/MyDrive/Deep Learning/Skin Cancer MNIST HAM10000/Evaluation/precision_recall\"\n",
        "save_path_classification_report = \"/content/drive/MyDrive/Deep Learning/Skin Cancer MNIST HAM10000/Evaluation/classification_report\"\n",
        "\n",
        "\n",
        "# Define the models and their paths\n",
        "models = {\n",
        "    'resnet50-V2': '/content/drive/MyDrive/Deep Learning/Skin Cancer MNIST HAM10000/Models/resnet',\n",
        "    'mobilenet-V2': '/content/drive/MyDrive/Deep Learning/Skin Cancer MNIST HAM10000/Models/mobilenet',\n",
        "    'efficientnet-V2': '/content/drive/MyDrive/Deep Learning/Skin Cancer MNIST HAM10000/Models/efficientnet'\n",
        "}\n",
        "\n",
        "# Loop through the models\n",
        "for model_name, model_path in models.items():\n",
        "    # Load the model\n",
        "    model = tf.keras.models.load_model(model_path)\n",
        "\n",
        "    # Generate predictions using the test_images\n",
        "    predictions = model.predict(test_images)\n",
        "    # Convert predictions to one-hot encoded format\n",
        "    predicted_labels = np.argmax(predictions, axis=1)\n",
        "    # Convert true labels to one-hot encoded format\n",
        "    true_labels = np.argmax(test_labels, axis=1)\n",
        "\n",
        "    plot_confusion_matrix(model, predictions, predicted_labels, true_labels, save_path_cm)\n",
        "    plot_roc(model, predictions, predicted_labels, true_labels, save_path_roc)\n",
        "    plot_precision_recall(model, predictions, predicted_labels, true_labels, save_path_precision_recall)\n",
        "    plot_classification_report(model, predictions, predicted_labels, true_labels, save_path_classification_report)"
      ]
    }
  ],
  "metadata": {
    "accelerator": "GPU",
    "colab": {
      "collapsed_sections": [
        "seoQ4moXh8Qf",
        "o1-4grUYinIL",
        "8m8ghM0xHnuw",
        "fMHSQbmmTdOR",
        "SSVjZiyzdlrn"
      ],
      "provenance": []
    },
    "gpuClass": "standard",
    "kernelspec": {
      "display_name": "Python 3",
      "name": "python3"
    },
    "language_info": {
      "name": "python"
    }
  },
  "nbformat": 4,
  "nbformat_minor": 0
}
